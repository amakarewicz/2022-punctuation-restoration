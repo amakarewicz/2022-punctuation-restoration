{
 "cells": [
  {
   "cell_type": "markdown",
   "id": "5d388230",
   "metadata": {},
   "source": [
    "## <span style='font-family:Georgia'> Objectives\n",
    "The purpose of this notebook is to test Named Entity Recognition model training on small data subset  \n",
    "    \n",
    "*Author: Elżbieta Jowik*"
   ]
  },
  {
   "cell_type": "code",
   "execution_count": 1,
   "id": "739194ad",
   "metadata": {
    "ExecuteTime": {
     "end_time": "2022-04-24T08:15:47.676357Z",
     "start_time": "2022-04-24T08:15:20.113998Z"
    }
   },
   "outputs": [],
   "source": [
    "from tqdm.notebook import tqdm\n",
    "\n",
    "from utils.train_model import train_model\n",
    "from utils.test_model import test_model"
   ]
  },
  {
   "cell_type": "markdown",
   "id": "aab1a142",
   "metadata": {},
   "source": [
    "### <span style='font-family:Georgia'> Parameters settings"
   ]
  },
  {
   "cell_type": "code",
   "execution_count": 2,
   "id": "6776b6b6",
   "metadata": {},
   "outputs": [],
   "source": [
    "# Input paths\n",
    "test_in_path = \"../data/tests/source/test-A/in.tsv\"\n",
    "\n",
    "step5_out_dirpath = \"../data/tests/outputs/step5\"\n",
    "step6_out_dirpath = \"../data/tests/outputs/step6\"\n",
    "step7_out_dirpath = \"../data/tests/outputs/step7\"\n",
    "\n",
    "step5_train_save_path = f\"{step5_out_dirpath}/original_train.tsv.s\"\n",
    "step5_test_save_path = f\"{step5_out_dirpath}/original_test-A.tsv.s\"\n",
    "step5_rest_save_path = f\"{step5_out_dirpath}/rest.tsv.s\"\n",
    "\n",
    "step6_model_save_path = f\"{step6_out_dirpath}/best_model\"\n",
    "\n",
    "step7_pred_save_path = f\"{step7_out_dirpath}/test-A/out.tsv\""
   ]
  },
  {
   "cell_type": "markdown",
   "id": "ea095eef",
   "metadata": {},
   "source": [
    "### <span style='font-family:Georgia'> Neural NER model fine-tuning"
   ]
  },
  {
   "cell_type": "code",
   "execution_count": 3,
   "id": "3385a072",
   "metadata": {
    "ExecuteTime": {
     "end_time": "2022-04-25T22:45:01.585004Z",
     "start_time": "2022-04-24T08:16:05.157021Z"
    },
    "scrolled": false
   },
   "outputs": [
    {
     "name": "stdout",
     "output_type": "stream",
     "text": [
      "labels ['B', ':', ';', ',', '.', '-', '?', '!']\n"
     ]
    },
    {
     "name": "stderr",
     "output_type": "stream",
     "text": [
      "Some weights of the model checkpoint at allegro/herbert-large-cased were not used when initializing BertForTokenClassification: ['cls.sso.sso_relationship.bias', 'cls.predictions.transform.dense.bias', 'cls.sso.sso_relationship.weight', 'cls.predictions.bias', 'cls.predictions.decoder.weight', 'cls.predictions.transform.dense.weight', 'cls.predictions.transform.LayerNorm.bias', 'cls.predictions.transform.LayerNorm.weight', 'cls.predictions.decoder.bias']\n",
      "- This IS expected if you are initializing BertForTokenClassification from the checkpoint of a model trained on another task or with another architecture (e.g. initializing a BertForSequenceClassification model from a BertForPreTraining model).\n",
      "- This IS NOT expected if you are initializing BertForTokenClassification from the checkpoint of a model that you expect to be exactly identical (initializing a BertForSequenceClassification model from a BertForSequenceClassification model).\n",
      "Some weights of BertForTokenClassification were not initialized from the model checkpoint at allegro/herbert-large-cased and are newly initialized: ['classifier.bias', 'classifier.weight']\n",
      "You should probably TRAIN this model on a down-stream task to be able to use it for predictions and inference.\n"
     ]
    },
    {
     "data": {
      "application/vnd.jupyter.widget-view+json": {
       "model_id": "599c08203615422997094ef20a8b7326",
       "version_major": 2,
       "version_minor": 0
      },
      "text/plain": [
       "  0%|          | 0/21 [00:00<?, ?it/s]"
      ]
     },
     "metadata": {},
     "output_type": "display_data"
    },
    {
     "name": "stderr",
     "output_type": "stream",
     "text": [
      "C:\\Users\\Ela\\anaconda3\\lib\\site-packages\\transformers\\optimization.py:306: FutureWarning: This implementation of AdamW is deprecated and will be removed in a future version. Use the PyTorch implementation torch.optim.AdamW instead, or set `no_deprecation_warning=True` to disable this warning\n",
      "  warnings.warn(\n"
     ]
    },
    {
     "data": {
      "application/vnd.jupyter.widget-view+json": {
       "model_id": "1bf7a168f51a4292a051002979ba814f",
       "version_major": 2,
       "version_minor": 0
      },
      "text/plain": [
       "Epoch:   0%|          | 0/1 [00:00<?, ?it/s]"
      ]
     },
     "metadata": {},
     "output_type": "display_data"
    },
    {
     "data": {
      "application/vnd.jupyter.widget-view+json": {
       "model_id": "b903f5b87fc948d9a7caffaca661949d",
       "version_major": 2,
       "version_minor": 0
      },
      "text/plain": [
       "Running Epoch 0 of 1:   0%|          | 0/6 [00:00<?, ?it/s]"
      ]
     },
     "metadata": {},
     "output_type": "display_data"
    },
    {
     "data": {
      "application/vnd.jupyter.widget-view+json": {
       "model_id": "d0e58e7719494641b77ad487ef0cea5d",
       "version_major": 2,
       "version_minor": 0
      },
      "text/plain": [
       "  0%|          | 0/11 [00:01<?, ?it/s]"
      ]
     },
     "metadata": {},
     "output_type": "display_data"
    },
    {
     "data": {
      "application/vnd.jupyter.widget-view+json": {
       "model_id": "4cd6bee7cf154f18bfa2d4d6836f9cde",
       "version_major": 2,
       "version_minor": 0
      },
      "text/plain": [
       "Running Evaluation:   0%|          | 0/3 [00:00<?, ?it/s]"
      ]
     },
     "metadata": {},
     "output_type": "display_data"
    },
    {
     "name": "stderr",
     "output_type": "stream",
     "text": [
      "C:\\Users\\Ela\\anaconda3\\lib\\site-packages\\seqeval\\metrics\\sequence_labeling.py:171: UserWarning: , seems not to be NE tag.\n",
      "  warnings.warn('{} seems not to be NE tag.'.format(chunk))\n",
      "C:\\Users\\Ela\\anaconda3\\lib\\site-packages\\seqeval\\metrics\\sequence_labeling.py:171: UserWarning: . seems not to be NE tag.\n",
      "  warnings.warn('{} seems not to be NE tag.'.format(chunk))\n",
      "C:\\Users\\Ela\\anaconda3\\lib\\site-packages\\seqeval\\metrics\\sequence_labeling.py:171: UserWarning: - seems not to be NE tag.\n",
      "  warnings.warn('{} seems not to be NE tag.'.format(chunk))\n",
      "C:\\Users\\Ela\\anaconda3\\lib\\site-packages\\seqeval\\metrics\\sequence_labeling.py:171: UserWarning: : seems not to be NE tag.\n",
      "  warnings.warn('{} seems not to be NE tag.'.format(chunk))\n",
      "C:\\Users\\Ela\\anaconda3\\lib\\site-packages\\seqeval\\metrics\\sequence_labeling.py:171: UserWarning: ? seems not to be NE tag.\n",
      "  warnings.warn('{} seems not to be NE tag.'.format(chunk))\n",
      "C:\\Users\\Ela\\anaconda3\\lib\\site-packages\\seqeval\\metrics\\sequence_labeling.py:171: UserWarning: ! seems not to be NE tag.\n",
      "  warnings.warn('{} seems not to be NE tag.'.format(chunk))\n",
      "C:\\Users\\Ela\\anaconda3\\lib\\site-packages\\seqeval\\metrics\\sequence_labeling.py:171: UserWarning: ; seems not to be NE tag.\n",
      "  warnings.warn('{} seems not to be NE tag.'.format(chunk))\n"
     ]
    },
    {
     "name": "stdout",
     "output_type": "stream",
     "text": [
      "Best model saved to: ../data/tests/outputs/step6/model_dir_allegro/herbert-large-cased_1651921408.6591263\\best_model\n"
     ]
    }
   ],
   "source": [
    "best_model_dir = train_model(\n",
    "    train_data_dir=step5_rest_save_path,\n",
    "    test_data_dir=step5_test_save_path,\n",
    "    eval_data_dir=step5_train_save_path,\n",
    "    save_dirpath=step6_out_dirpath,\n",
    "    model_name=\"allegro/herbert-large-cased\",\n",
    "    learning_rate=2e-5,\n",
    "    epochs=1,\n",
    "    batch_size=4,\n",
    "    grad_acc_steps=1,\n",
    "    warmup_steps=0,\n",
    "    eval_steps=200,\n",
    "    eval_during_training=True,\n",
    "    max_seq_len=256,\n",
    "    seed=2\n",
    ")\n",
    "print(f\"Best model saved to: {best_model_dir}\")"
   ]
  },
  {
   "cell_type": "markdown",
   "id": "1d5d25a6",
   "metadata": {},
   "source": [
    "### <span style='font-family:Georgia'> Generate model prediction"
   ]
  },
  {
   "cell_type": "code",
   "execution_count": 4,
   "id": "3a9ea434",
   "metadata": {},
   "outputs": [],
   "source": [
    "test_model(path_to_model=best_model_dir, path_to_test=test_in_path, path_to_out=step7_pred_save_path)"
   ]
  },
  {
   "cell_type": "code",
   "execution_count": 5,
   "id": "2eb4de26",
   "metadata": {},
   "outputs": [],
   "source": [
    "# TODO: evaluation method"
   ]
  }
 ],
 "metadata": {
  "kernelspec": {
   "display_name": "Python 3 (ipykernel)",
   "language": "python",
   "name": "python3"
  },
  "language_info": {
   "codemirror_mode": {
    "name": "ipython",
    "version": 3
   },
   "file_extension": ".py",
   "mimetype": "text/x-python",
   "name": "python",
   "nbconvert_exporter": "python",
   "pygments_lexer": "ipython3",
   "version": "3.9.7"
  }
 },
 "nbformat": 4,
 "nbformat_minor": 5
}
