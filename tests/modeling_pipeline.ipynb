{
 "cells": [
  {
   "cell_type": "markdown",
   "id": "45ec6cf4",
   "metadata": {},
   "source": [
    "## <span style='font-family:Georgia'> Objectives\n",
    "The purpose of this notebook is modeling data preparation (including cleaning) & named entity recognition model training   \n",
    "*Author: Elżbieta Jowik*"
   ]
  },
  {
   "cell_type": "code",
   "execution_count": 2,
   "id": "739194ad",
   "metadata": {
    "ExecuteTime": {
     "end_time": "2022-04-24T08:15:47.676357Z",
     "start_time": "2022-04-24T08:15:20.113998Z"
    }
   },
   "outputs": [],
   "source": [
    "import os\n",
    "import glob\n",
    "from tqdm.notebook import tqdm\n",
    "\n",
    "from utils.parse_tsv import parse_tsv\n",
    "from utils.parse_data import parse_data\n",
    "from utils.convert_to_pandas import convert_to_pandas\n",
    "from utils.split_long_examples import split_long_examples\n",
    "from utils.train_model import train_model\n",
    "from utils.test_model import test_model"
   ]
  },
  {
   "cell_type": "code",
   "execution_count": 4,
   "id": "cec69c5b",
   "metadata": {},
   "outputs": [],
   "source": [
    "# Input data cleaning functions\n",
    "\n",
    "import os\n",
    "import re\n",
    "import json\n",
    "from functools import reduce\n",
    "\n",
    "# Data cleaning\n",
    "def rm_consecutive_spaces(string):\n",
    "    return re.sub(' +', ' ', string)\n",
    "\n",
    "# Data cleaning\n",
    "def generate_replacement_dict():\n",
    "    # load list of symbols to replace\n",
    "    symbols_to_replace_infile = open(\"../data/outputs/eda/symbols_to_replace.txt\", \"r\", encoding=\"utf-8\")\n",
    "    symbols_to_replace = symbols_to_replace_infile.read().splitlines()\n",
    "    # load list of noisy words, i.e. words with letters from outside the Polish alphabet\n",
    "    noisy_words_infile = open(\"../data/outputs/eda/noisy_words.txt\", \"r\", encoding=\"utf-8\")\n",
    "    noisy_words = noisy_words_infile.read().splitlines()\n",
    "    # load list of letters from outside the Polish alphabet\n",
    "    non_polish_letters_infile = open(\"../data/outputs/eda/non_polish_letters.txt\", \"r\", encoding=\"utf-8\")\n",
    "    non_polish_letters = non_polish_letters_infile.read().splitlines()\n",
    "\n",
    "    # merge noisy data into one list\n",
    "    symbols_to_replace.extend(noisy_words)\n",
    "    symbols_to_replace.extend(non_polish_letters)\n",
    "    symbols_to_replace.extend([\"...\", \"…\"])\n",
    "\n",
    "    # generate dictionary\n",
    "    replacement_dict = {}\n",
    "\n",
    "    for symbol in symbols_to_replace:\n",
    "        replacement_dict[symbol] = \"\"\n",
    "    return replacement_dict\n",
    "\n",
    "\n",
    "def replace_with_dict(str_to_replace, replacement_dict):\n",
    "    str_replaced = reduce(lambda x, y: x.replace(*y), [str_to_replace, *list(replacement_dict.items())])\n",
    "    return str_replaced\n",
    "\n",
    "\n",
    "# *.tsv\n",
    "def clean_tsv_file(in_path, out_path):\n",
    "    \n",
    "    target_classes=['.', ',', '?', '!', '-', ':']\n",
    "\n",
    "    os.makedirs(out_path, mode = 0o777, exist_ok = True) \n",
    "    out_path = f\"{out_path}/{os.path.basename(in_path)}\"\n",
    "\n",
    "    replacement_dict = generate_replacement_dict()\n",
    "    \n",
    "    if not os.path.exists(out_path):\n",
    "        open(out_path, 'w+').close()\n",
    "    \n",
    "    with open(in_path, encoding=\"utf-8\", mode=\"r\") as f1, open(out_path, encoding=\"utf-8\", mode=\"w+\") as f2:\n",
    "        for line in f1:\n",
    "            try:\n",
    "                name, text = line.split(\"\\t\")\n",
    "            except:\n",
    "                text = line\n",
    "                name = None\n",
    "            text_replaced = replace_with_dict(text, replacement_dict)\n",
    "            text_cleaned = rm_consecutive_spaces(text_replaced)\n",
    "            for item in target_classes:\n",
    "                text_cleaned = text_cleaned.replace(f\" {item}\", item)\n",
    "            text_cleaned = text_cleaned.lstrip().rstrip()\n",
    "            if name: line_cleaned = f\"{name}\\t{text_cleaned}\\n\"\n",
    "            else: line_cleaned = f\"{text_cleaned}\\n\"\n",
    "            \n",
    "\n",
    "            f2.write(line_cleaned)\n",
    "            \n",
    "    f1.close()\n",
    "    f2.close()\n",
    "        \n",
    "\n",
    "# *.clntmstmp\n",
    "def clean_clmtmstmp_file(in_path, out_path):\n",
    "    os.makedirs(out_path, mode = 0o777, exist_ok = True) \n",
    "    out_path = f\"{out_path}/{os.path.basename(in_path)}\"\n",
    "    \n",
    "    replacement_dict = generate_replacement_dict()\n",
    "    \n",
    "    with open(in_path, encoding=\"utf-8\", mode=\"r\") as f1, open(out_path, encoding=\"utf-8\", mode=\"w+\") as f2:\n",
    "        for line in f1:\n",
    "            try:\n",
    "                interval, word = line.split(\" \")\n",
    "                word_replaced = replace_with_dict(word, replacement_dict).strip()\n",
    "                if word_replaced != \"\":\n",
    "                    line_cleaned = f\"{interval} {word_replaced}\\n\"\n",
    "                else: continue\n",
    "            except ValueError: line_cleaned = line  # EOF case\n",
    "            f2.write(line_cleaned)\n",
    "    f1.close()\n",
    "    f2.close()\n",
    "\n",
    "            \n",
    "# *.json\n",
    "def clean_json_file(in_path, out_path):\n",
    "    os.makedirs(out_path, mode = 0o777, exist_ok = True) \n",
    "    out_path = f\"{out_path}/{os.path.basename(in_path)}\"\n",
    "\n",
    "    replacement_dict = generate_replacement_dict()\n",
    "    clean_rows = []\n",
    "\n",
    "    with open(in_path, encoding=\"utf-8\", mode=\"r\") as f1, open(out_path, encoding=\"utf-8\", mode=\"w+\") as f2:\n",
    "        data = json.load(f1)\n",
    "\n",
    "        for row in data['words']:\n",
    "            new_row = {\n",
    "                'word': replace_with_dict(row['word'], replacement_dict).strip(),\n",
    "                'punctuation': replace_with_dict(row['punctuation'], replacement_dict).strip(),\n",
    "                'space_after': row['space_after']\n",
    "            }\n",
    "            # TODO: constraints\n",
    "            clean_rows.append(new_row)\n",
    "\n",
    "        data_clean = {\n",
    "            'title': data['title'],\n",
    "            'words': clean_rows\n",
    "        }\n",
    "\n",
    "        json.dump(data_clean, f2)\n",
    "    \n",
    "    f1.close()\n",
    "    f2.close()"
   ]
  },
  {
   "cell_type": "code",
   "execution_count": 13,
   "id": "e661321f",
   "metadata": {},
   "outputs": [],
   "source": [
    "# Input files paths\n",
    "train_in_path = \"../data/tests/source/train/in.tsv\"\n",
    "test_in_path = \"../data/tests/source/test-A/in.tsv\"\n",
    "\n",
    "train_expected_path = \"../data/tests/source/train/expected.tsv\"\n",
    "test_expected_path = \"../data/tests/source/test-A/expected.tsv\"\n",
    "\n",
    "train_clntmstmp_dir = \"../data/source/poleval_fa.train/train\"\n",
    "test_clntmstmp_dir = \"../data/source/poleval_fa.validation/validation\"\n",
    "\n",
    "wikitalks_json_dir = \"../data/tests/source/poleval_text.rest/wikinews/all/json\"\n",
    "wikinews_json_dir = \"../data/tests/source/poleval_text.rest/wikitalks/all/json\""
   ]
  },
  {
   "cell_type": "code",
   "execution_count": 14,
   "id": "567c14e6",
   "metadata": {
    "ExecuteTime": {
     "end_time": "2022-04-24T08:15:53.049613Z",
     "start_time": "2022-04-24T08:15:53.039640Z"
    }
   },
   "outputs": [],
   "source": [
    "# Output files paths\n",
    "step1_out_dirpath = \"../data/tests/outputs/step1\"\n",
    "step2_out_dirpath = \"../data/tests/outputs/step2\"\n",
    "step3_out_dirpath = step1_out_dirpath\n",
    "step4_out_dirpath = \"../data/tests/outputs/step4\"\n",
    "step5_out_dirpath = \"../data/tests/outputs/step5\"\n",
    "step6_out_dirpath = \"../data/tests/outputs/step6\"\n",
    "step7_out_dirpath = \"../data/tests/outputs/step7\"\n",
    "\n",
    "step1_train_save_path = f\"{step1_out_dirpath}/original_train.conll\"\n",
    "step1_test_save_path = f\"{step1_out_dirpath}/original_test-A.conll\"\n",
    "\n",
    "step2_train_in_save_path = f\"{step2_out_dirpath}/train_in.tsv\"\n",
    "step2_rest_in_save_path = f\"{step2_out_dirpath}/rest_in.tsv\"\n",
    "step2_test_in_save_path = f\"{step2_out_dirpath}/test_in.tsv\"\n",
    "\n",
    "step2_train_expected_save_path = f\"{step2_out_dirpath}/train_expected.tsv\"\n",
    "step2_rest_expected_save_path = f\"{step2_out_dirpath}/rest_expected.tsv\"\n",
    "step2_test_expected_save_path = f\"{step2_out_dirpath}/test_expected.tsv\"\n",
    "\n",
    "step3_train_save_path = f\"{step3_out_dirpath}/train.conll\"\n",
    "step3_rest_save_path = f\"{step3_out_dirpath}/rest.conll\"\n",
    "step3_test_save_path = f\"{step3_out_dirpath}/test.conll\"\n",
    "\n",
    "step4_train_save_path = f\"{step4_out_dirpath}/original_train.tsv\"\n",
    "step4_test_save_path = f\"{step4_out_dirpath}/original_test-A.tsv\"\n",
    "step4_rest_save_path = f\"{step4_out_dirpath}/rest.tsv\"\n",
    "\n",
    "step5_train_save_path = f\"{step5_out_dirpath}/original_train.tsv.s\"\n",
    "step5_test_save_path = f\"{step5_out_dirpath}/original_test-A.tsv.s\"\n",
    "step5_rest_save_path = f\"{step5_out_dirpath}/rest.tsv.s\"\n",
    "\n",
    "step6_model_save_path = f\"{step6_out_dirpath}/best_model\"\n",
    "\n",
    "step7_pred_save_path = f\"{step7_out_dirpath}/test-A/out.tsv\""
   ]
  },
  {
   "cell_type": "code",
   "execution_count": 15,
   "id": "e179aaa8",
   "metadata": {},
   "outputs": [
    {
     "data": {
      "application/vnd.jupyter.widget-view+json": {
       "model_id": "6c50be7906ec40d5857718c48e1e0918",
       "version_major": 2,
       "version_minor": 0
      },
      "text/plain": [
       "  0%|          | 0/793 [00:00<?, ?it/s]"
      ]
     },
     "metadata": {},
     "output_type": "display_data"
    },
    {
     "data": {
      "application/vnd.jupyter.widget-view+json": {
       "model_id": "e9a4778d0c884efb8f68670acb9aac0d",
       "version_major": 2,
       "version_minor": 0
      },
      "text/plain": [
       "  0%|          | 0/200 [00:00<?, ?it/s]"
      ]
     },
     "metadata": {},
     "output_type": "display_data"
    },
    {
     "data": {
      "application/vnd.jupyter.widget-view+json": {
       "model_id": "cab19d6e8d784043a0b138e829451381",
       "version_major": 2,
       "version_minor": 0
      },
      "text/plain": [
       "  0%|          | 0/6 [00:00<?, ?it/s]"
      ]
     },
     "metadata": {},
     "output_type": "display_data"
    },
    {
     "data": {
      "application/vnd.jupyter.widget-view+json": {
       "model_id": "36b7d79c6c7d4a9890ed35a223dbc8d7",
       "version_major": 2,
       "version_minor": 0
      },
      "text/plain": [
       "  0%|          | 0/7 [00:00<?, ?it/s]"
      ]
     },
     "metadata": {},
     "output_type": "display_data"
    }
   ],
   "source": [
    "# *.tsv input files cleaning\n",
    "_train_in_path = \"../data/tests/preprocessed/train/\"\n",
    "_test_in_path = \"../data/tests/preprocessed/test-A/\"\n",
    "_train_expected_path = \"../data/tests/preprocessed/train/\"\n",
    "_test_expected_path = \"../data/tests/preprocessed/test-A/\"\n",
    "\n",
    "clean_tsv_file(in_path=train_in_path, out_path=_train_in_path)\n",
    "clean_tsv_file(in_path=test_in_path, out_path=_test_in_path)\n",
    "clean_tsv_file(in_path=train_expected_path, out_path=_train_expected_path)\n",
    "clean_tsv_file(in_path=test_expected_path, out_path=_test_expected_path)\n",
    "\n",
    "# *.clntmstmp input files cleaning\n",
    "_train_clntmstmp_dir = \"../data/tests/preprocessed/poleval_fa.train/train/\"\n",
    "_test_clntmstmp_dir = \"../data/tests/preprocessed/poleval_fa.validation/validation\"\n",
    "\n",
    "for in_path in tqdm(glob.glob(f\"{train_clntmstmp_dir}/*.clntmstmp\")):\n",
    "    clean_clmtmstmp_file(in_path=in_path, out_path=_train_clntmstmp_dir)\n",
    "\n",
    "for in_path in tqdm(glob.glob(f\"{test_clntmstmp_dir}/*.clntmstmp\")):\n",
    "    clean_clmtmstmp_file(in_path=in_path, out_path=_test_clntmstmp_dir)\n",
    "\n",
    "# *.json input files cleaning\n",
    "_wikitalks_json_dir = \"../data/tests/preprocessed/json-wikinews\"\n",
    "_wikinews_json_dir = \"../data/tests/preprocessed/json-wikitalks\"\n",
    "\n",
    "for in_path in tqdm(glob.glob(f\"{wikinews_json_dir}/*.json\")):\n",
    "    clean_json_file(in_path=in_path, out_path=_wikinews_json_dir)\n",
    "    \n",
    "for in_path in tqdm(glob.glob(f\"{wikitalks_json_dir}/*.json\")):\n",
    "    clean_json_file(in_path=in_path, out_path=_wikitalks_json_dir)\n",
    "\n",
    "# Overwriting raw data paths with cleaned data paths\n",
    "train_in_path = f\"{_train_in_path}/{os.path.basename(train_in_path)}\"\n",
    "test_in_path = f\"{_test_in_path}/{os.path.basename(test_in_path)}\"\n",
    "train_expected_path = f\"{_train_expected_path}/{os.path.basename(train_expected_path)}\"\n",
    "test_expected_path = f\"{_test_expected_path}/{os.path.basename(test_expected_path)}\"\n",
    "train_clntmstmp_dir = _train_clntmstmp_dir\n",
    "test_clntmstmp_dir = _test_clntmstmp_dir\n",
    "wikitalks_json_dir = _wikitalks_json_dir\n",
    "wikinews_json_dir = _wikinews_json_dir"
   ]
  },
  {
   "cell_type": "code",
   "execution_count": 16,
   "id": "e40c9f01",
   "metadata": {
    "ExecuteTime": {
     "end_time": "2022-04-24T08:04:07.424126Z",
     "start_time": "2022-04-24T08:03:56.710Z"
    }
   },
   "outputs": [],
   "source": [
    "# step 1.\n",
    "clntmstmp_missing = [\n",
    "    \"wikitalks0013565\",\n",
    "    \"wikitalks0015043\",\n",
    "    \"wikitalks0016297\",\n",
    "    \"wikitalks0016712\",\n",
    "    \"wikitalks00415\",\n",
    "    \"wikitalks005277\",\n",
    "    \"wikitalks007429\",\n",
    "]\n",
    "\n",
    "parse_tsv(\n",
    "    in_path=train_in_path,\n",
    "    expected_path=train_expected_path,\n",
    "    save_path=step1_train_save_path,\n",
    "    clntmstmp_dir=train_clntmstmp_dir,\n",
    "    files_to_ignore=clntmstmp_missing,\n",
    ")\n",
    "parse_tsv(\n",
    "    in_path=test_in_path,\n",
    "    expected_path=test_expected_path,\n",
    "    save_path=step1_test_save_path,\n",
    "    clntmstmp_dir=test_clntmstmp_dir,\n",
    "    files_to_ignore=clntmstmp_missing,\n",
    ")"
   ]
  },
  {
   "cell_type": "code",
   "execution_count": 17,
   "id": "29e23f87",
   "metadata": {
    "ExecuteTime": {
     "end_time": "2022-04-24T08:04:07.425123Z",
     "start_time": "2022-04-24T08:03:56.711Z"
    }
   },
   "outputs": [],
   "source": [
    "# step 2.\n",
    "data = [\n",
    "    wikinews_json_dir,\n",
    "    wikitalks_json_dir\n",
    "]\n",
    "\n",
    "parse_data(\n",
    "    train_path=train_in_path,\n",
    "    test_path=test_in_path,\n",
    "    data=data,\n",
    "    save_path=step2_out_dirpath,\n",
    ")"
   ]
  },
  {
   "cell_type": "code",
   "execution_count": 18,
   "id": "182bbc92",
   "metadata": {
    "ExecuteTime": {
     "end_time": "2022-04-24T08:04:07.425123Z",
     "start_time": "2022-04-24T08:03:56.713Z"
    }
   },
   "outputs": [],
   "source": [
    "# step 3.\n",
    "parse_tsv(\n",
    "    in_path=step2_train_in_save_path,\n",
    "    expected_path=step2_train_expected_save_path,\n",
    "    save_path=step3_train_save_path,\n",
    "    clntmstmp_dir=train_clntmstmp_dir,\n",
    "    files_to_ignore=clntmstmp_missing,\n",
    ")\n",
    "parse_tsv(\n",
    "    in_path=step2_rest_in_save_path,\n",
    "    expected_path=step2_rest_expected_save_path,\n",
    "    save_path=step3_rest_save_path,\n",
    "    files_to_ignore=clntmstmp_missing,\n",
    ")\n",
    "parse_tsv(\n",
    "    in_path=step2_test_in_save_path,\n",
    "    expected_path=step2_test_expected_save_path,\n",
    "    save_path=step3_test_save_path,\n",
    "    clntmstmp_dir=test_clntmstmp_dir,\n",
    "    files_to_ignore=clntmstmp_missing,\n",
    ")"
   ]
  },
  {
   "cell_type": "code",
   "execution_count": 19,
   "id": "e9ac6dc7",
   "metadata": {
    "ExecuteTime": {
     "end_time": "2022-04-24T08:04:07.426119Z",
     "start_time": "2022-04-24T08:03:56.714Z"
    }
   },
   "outputs": [],
   "source": [
    "# step 4.\n",
    "convert_to_pandas(data_file=step1_train_save_path, out_file=step4_train_save_path)\n",
    "convert_to_pandas(data_file=step1_test_save_path, out_file=step4_test_save_path)\n",
    "convert_to_pandas(data_file=step3_rest_save_path, out_file=step4_rest_save_path)"
   ]
  },
  {
   "cell_type": "code",
   "execution_count": 20,
   "id": "ae2cafe2",
   "metadata": {
    "ExecuteTime": {
     "end_time": "2022-04-24T08:04:07.436805Z",
     "start_time": "2022-04-24T08:03:56.715Z"
    }
   },
   "outputs": [],
   "source": [
    "# step 5.\n",
    "split_long_examples(data_path=step4_train_save_path, out_file=step5_train_save_path)\n",
    "split_long_examples(data_path=step4_test_save_path, out_file=step5_test_save_path)\n",
    "split_long_examples(data_path=step4_rest_save_path, out_file=step5_rest_save_path)"
   ]
  },
  {
   "cell_type": "code",
   "execution_count": 21,
   "id": "3385a072",
   "metadata": {
    "ExecuteTime": {
     "end_time": "2022-04-25T22:45:01.585004Z",
     "start_time": "2022-04-24T08:16:05.157021Z"
    },
    "scrolled": false
   },
   "outputs": [
    {
     "name": "stdout",
     "output_type": "stream",
     "text": [
      "labels ['B', ':', ';', ',', '.', '-', '?', '!']\n"
     ]
    },
    {
     "name": "stderr",
     "output_type": "stream",
     "text": [
      "Some weights of the model checkpoint at allegro/herbert-large-cased were not used when initializing BertForTokenClassification: ['cls.predictions.transform.dense.weight', 'cls.predictions.decoder.weight', 'cls.predictions.transform.dense.bias', 'cls.predictions.decoder.bias', 'cls.predictions.transform.LayerNorm.bias', 'cls.sso.sso_relationship.weight', 'cls.sso.sso_relationship.bias', 'cls.predictions.bias', 'cls.predictions.transform.LayerNorm.weight']\n",
      "- This IS expected if you are initializing BertForTokenClassification from the checkpoint of a model trained on another task or with another architecture (e.g. initializing a BertForSequenceClassification model from a BertForPreTraining model).\n",
      "- This IS NOT expected if you are initializing BertForTokenClassification from the checkpoint of a model that you expect to be exactly identical (initializing a BertForSequenceClassification model from a BertForSequenceClassification model).\n",
      "Some weights of BertForTokenClassification were not initialized from the model checkpoint at allegro/herbert-large-cased and are newly initialized: ['classifier.weight', 'classifier.bias']\n",
      "You should probably TRAIN this model on a down-stream task to be able to use it for predictions and inference.\n"
     ]
    },
    {
     "data": {
      "application/vnd.jupyter.widget-view+json": {
       "model_id": "5e48c09bd8184e9589a79b788163d462",
       "version_major": 2,
       "version_minor": 0
      },
      "text/plain": [
       "  0%|          | 0/21 [00:00<?, ?it/s]"
      ]
     },
     "metadata": {},
     "output_type": "display_data"
    },
    {
     "name": "stderr",
     "output_type": "stream",
     "text": [
      "C:\\Users\\Ela\\anaconda3\\lib\\site-packages\\transformers\\optimization.py:306: FutureWarning: This implementation of AdamW is deprecated and will be removed in a future version. Use the PyTorch implementation torch.optim.AdamW instead, or set `no_deprecation_warning=True` to disable this warning\n",
      "  warnings.warn(\n"
     ]
    },
    {
     "data": {
      "application/vnd.jupyter.widget-view+json": {
       "model_id": "07b6e76d59e948a6892b3b7b44bb99b4",
       "version_major": 2,
       "version_minor": 0
      },
      "text/plain": [
       "Epoch:   0%|          | 0/5 [00:00<?, ?it/s]"
      ]
     },
     "metadata": {},
     "output_type": "display_data"
    },
    {
     "data": {
      "application/vnd.jupyter.widget-view+json": {
       "model_id": "a26d00b81d994a589c889a487aea8609",
       "version_major": 2,
       "version_minor": 0
      },
      "text/plain": [
       "Running Epoch 0 of 5:   0%|          | 0/2 [00:00<?, ?it/s]"
      ]
     },
     "metadata": {},
     "output_type": "display_data"
    },
    {
     "data": {
      "application/vnd.jupyter.widget-view+json": {
       "model_id": "72a5d480486e453cb0f78443e8d3a2e0",
       "version_major": 2,
       "version_minor": 0
      },
      "text/plain": [
       "  0%|          | 0/11 [00:00<?, ?it/s]"
      ]
     },
     "metadata": {},
     "output_type": "display_data"
    },
    {
     "data": {
      "application/vnd.jupyter.widget-view+json": {
       "model_id": "38ab1b1077f3472ab5fbc07d550daf1f",
       "version_major": 2,
       "version_minor": 0
      },
      "text/plain": [
       "Running Evaluation:   0%|          | 0/1 [00:00<?, ?it/s]"
      ]
     },
     "metadata": {},
     "output_type": "display_data"
    },
    {
     "name": "stderr",
     "output_type": "stream",
     "text": [
      "C:\\Users\\Ela\\anaconda3\\lib\\site-packages\\seqeval\\metrics\\sequence_labeling.py:171: UserWarning: , seems not to be NE tag.\n",
      "  warnings.warn('{} seems not to be NE tag.'.format(chunk))\n",
      "C:\\Users\\Ela\\anaconda3\\lib\\site-packages\\seqeval\\metrics\\sequence_labeling.py:171: UserWarning: . seems not to be NE tag.\n",
      "  warnings.warn('{} seems not to be NE tag.'.format(chunk))\n",
      "C:\\Users\\Ela\\anaconda3\\lib\\site-packages\\seqeval\\metrics\\sequence_labeling.py:171: UserWarning: - seems not to be NE tag.\n",
      "  warnings.warn('{} seems not to be NE tag.'.format(chunk))\n",
      "C:\\Users\\Ela\\anaconda3\\lib\\site-packages\\seqeval\\metrics\\sequence_labeling.py:171: UserWarning: : seems not to be NE tag.\n",
      "  warnings.warn('{} seems not to be NE tag.'.format(chunk))\n",
      "C:\\Users\\Ela\\anaconda3\\lib\\site-packages\\seqeval\\metrics\\sequence_labeling.py:171: UserWarning: ? seems not to be NE tag.\n",
      "  warnings.warn('{} seems not to be NE tag.'.format(chunk))\n",
      "C:\\Users\\Ela\\anaconda3\\lib\\site-packages\\seqeval\\metrics\\sequence_labeling.py:171: UserWarning: ; seems not to be NE tag.\n",
      "  warnings.warn('{} seems not to be NE tag.'.format(chunk))\n",
      "C:\\Users\\Ela\\anaconda3\\lib\\site-packages\\seqeval\\metrics\\sequence_labeling.py:171: UserWarning: ! seems not to be NE tag.\n",
      "  warnings.warn('{} seems not to be NE tag.'.format(chunk))\n"
     ]
    },
    {
     "data": {
      "application/vnd.jupyter.widget-view+json": {
       "model_id": "91459324118a463faba9b45e4194964c",
       "version_major": 2,
       "version_minor": 0
      },
      "text/plain": [
       "Running Epoch 1 of 5:   0%|          | 0/2 [00:00<?, ?it/s]"
      ]
     },
     "metadata": {},
     "output_type": "display_data"
    },
    {
     "data": {
      "application/vnd.jupyter.widget-view+json": {
       "model_id": "c6f6e36991c4485394bdedf9132f9cff",
       "version_major": 2,
       "version_minor": 0
      },
      "text/plain": [
       "  0%|          | 0/11 [00:00<?, ?it/s]"
      ]
     },
     "metadata": {},
     "output_type": "display_data"
    },
    {
     "data": {
      "application/vnd.jupyter.widget-view+json": {
       "model_id": "0f143b2095024b4d804daa5a1760dfa5",
       "version_major": 2,
       "version_minor": 0
      },
      "text/plain": [
       "Running Evaluation:   0%|          | 0/1 [00:00<?, ?it/s]"
      ]
     },
     "metadata": {},
     "output_type": "display_data"
    },
    {
     "name": "stderr",
     "output_type": "stream",
     "text": [
      "C:\\Users\\Ela\\anaconda3\\lib\\site-packages\\seqeval\\metrics\\sequence_labeling.py:171: UserWarning: , seems not to be NE tag.\n",
      "  warnings.warn('{} seems not to be NE tag.'.format(chunk))\n",
      "C:\\Users\\Ela\\anaconda3\\lib\\site-packages\\seqeval\\metrics\\sequence_labeling.py:171: UserWarning: . seems not to be NE tag.\n",
      "  warnings.warn('{} seems not to be NE tag.'.format(chunk))\n",
      "C:\\Users\\Ela\\anaconda3\\lib\\site-packages\\seqeval\\metrics\\sequence_labeling.py:171: UserWarning: - seems not to be NE tag.\n",
      "  warnings.warn('{} seems not to be NE tag.'.format(chunk))\n",
      "C:\\Users\\Ela\\anaconda3\\lib\\site-packages\\seqeval\\metrics\\sequence_labeling.py:171: UserWarning: : seems not to be NE tag.\n",
      "  warnings.warn('{} seems not to be NE tag.'.format(chunk))\n",
      "C:\\Users\\Ela\\anaconda3\\lib\\site-packages\\seqeval\\metrics\\sequence_labeling.py:171: UserWarning: ? seems not to be NE tag.\n",
      "  warnings.warn('{} seems not to be NE tag.'.format(chunk))\n",
      "C:\\Users\\Ela\\anaconda3\\lib\\site-packages\\seqeval\\metrics\\sequence_labeling.py:171: UserWarning: ! seems not to be NE tag.\n",
      "  warnings.warn('{} seems not to be NE tag.'.format(chunk))\n",
      "C:\\Users\\Ela\\anaconda3\\lib\\site-packages\\seqeval\\metrics\\sequence_labeling.py:171: UserWarning: ; seems not to be NE tag.\n",
      "  warnings.warn('{} seems not to be NE tag.'.format(chunk))\n"
     ]
    },
    {
     "data": {
      "application/vnd.jupyter.widget-view+json": {
       "model_id": "80786833275f40ec9f98d8cfd47d764d",
       "version_major": 2,
       "version_minor": 0
      },
      "text/plain": [
       "Running Epoch 2 of 5:   0%|          | 0/2 [00:00<?, ?it/s]"
      ]
     },
     "metadata": {},
     "output_type": "display_data"
    },
    {
     "data": {
      "application/vnd.jupyter.widget-view+json": {
       "model_id": "1f1ab8481b6a4184a8cac97b47951e58",
       "version_major": 2,
       "version_minor": 0
      },
      "text/plain": [
       "  0%|          | 0/11 [00:01<?, ?it/s]"
      ]
     },
     "metadata": {},
     "output_type": "display_data"
    },
    {
     "data": {
      "application/vnd.jupyter.widget-view+json": {
       "model_id": "ae9e35daa4cc4d47a57b94978b78157b",
       "version_major": 2,
       "version_minor": 0
      },
      "text/plain": [
       "Running Evaluation:   0%|          | 0/1 [00:00<?, ?it/s]"
      ]
     },
     "metadata": {},
     "output_type": "display_data"
    },
    {
     "name": "stderr",
     "output_type": "stream",
     "text": [
      "C:\\Users\\Ela\\anaconda3\\lib\\site-packages\\seqeval\\metrics\\sequence_labeling.py:171: UserWarning: , seems not to be NE tag.\n",
      "  warnings.warn('{} seems not to be NE tag.'.format(chunk))\n",
      "C:\\Users\\Ela\\anaconda3\\lib\\site-packages\\seqeval\\metrics\\sequence_labeling.py:171: UserWarning: . seems not to be NE tag.\n",
      "  warnings.warn('{} seems not to be NE tag.'.format(chunk))\n",
      "C:\\Users\\Ela\\anaconda3\\lib\\site-packages\\seqeval\\metrics\\sequence_labeling.py:171: UserWarning: - seems not to be NE tag.\n",
      "  warnings.warn('{} seems not to be NE tag.'.format(chunk))\n",
      "C:\\Users\\Ela\\anaconda3\\lib\\site-packages\\seqeval\\metrics\\sequence_labeling.py:171: UserWarning: : seems not to be NE tag.\n",
      "  warnings.warn('{} seems not to be NE tag.'.format(chunk))\n",
      "C:\\Users\\Ela\\anaconda3\\lib\\site-packages\\seqeval\\metrics\\sequence_labeling.py:171: UserWarning: ? seems not to be NE tag.\n",
      "  warnings.warn('{} seems not to be NE tag.'.format(chunk))\n"
     ]
    },
    {
     "data": {
      "application/vnd.jupyter.widget-view+json": {
       "model_id": "1c773a4445724548889b71e804a427aa",
       "version_major": 2,
       "version_minor": 0
      },
      "text/plain": [
       "Running Epoch 3 of 5:   0%|          | 0/2 [00:00<?, ?it/s]"
      ]
     },
     "metadata": {},
     "output_type": "display_data"
    },
    {
     "data": {
      "application/vnd.jupyter.widget-view+json": {
       "model_id": "fd1df0d7335d4915969b9cefea589d47",
       "version_major": 2,
       "version_minor": 0
      },
      "text/plain": [
       "  0%|          | 0/11 [00:01<?, ?it/s]"
      ]
     },
     "metadata": {},
     "output_type": "display_data"
    },
    {
     "data": {
      "application/vnd.jupyter.widget-view+json": {
       "model_id": "19f7ffe321914ecb841411233641bb20",
       "version_major": 2,
       "version_minor": 0
      },
      "text/plain": [
       "Running Evaluation:   0%|          | 0/1 [00:00<?, ?it/s]"
      ]
     },
     "metadata": {},
     "output_type": "display_data"
    },
    {
     "name": "stderr",
     "output_type": "stream",
     "text": [
      "C:\\Users\\Ela\\anaconda3\\lib\\site-packages\\seqeval\\metrics\\sequence_labeling.py:171: UserWarning: , seems not to be NE tag.\n",
      "  warnings.warn('{} seems not to be NE tag.'.format(chunk))\n",
      "C:\\Users\\Ela\\anaconda3\\lib\\site-packages\\seqeval\\metrics\\sequence_labeling.py:171: UserWarning: . seems not to be NE tag.\n",
      "  warnings.warn('{} seems not to be NE tag.'.format(chunk))\n",
      "C:\\Users\\Ela\\anaconda3\\lib\\site-packages\\seqeval\\metrics\\sequence_labeling.py:171: UserWarning: - seems not to be NE tag.\n",
      "  warnings.warn('{} seems not to be NE tag.'.format(chunk))\n",
      "C:\\Users\\Ela\\anaconda3\\lib\\site-packages\\seqeval\\metrics\\sequence_labeling.py:171: UserWarning: : seems not to be NE tag.\n",
      "  warnings.warn('{} seems not to be NE tag.'.format(chunk))\n",
      "C:\\Users\\Ela\\anaconda3\\lib\\site-packages\\seqeval\\metrics\\sequence_labeling.py:171: UserWarning: ? seems not to be NE tag.\n",
      "  warnings.warn('{} seems not to be NE tag.'.format(chunk))\n"
     ]
    },
    {
     "data": {
      "application/vnd.jupyter.widget-view+json": {
       "model_id": "3a0d266aabd04a6eb01b08e875c32d02",
       "version_major": 2,
       "version_minor": 0
      },
      "text/plain": [
       "Running Epoch 4 of 5:   0%|          | 0/2 [00:00<?, ?it/s]"
      ]
     },
     "metadata": {},
     "output_type": "display_data"
    },
    {
     "data": {
      "application/vnd.jupyter.widget-view+json": {
       "model_id": "76fa6e695c6b46d1b2214a2d02577a1b",
       "version_major": 2,
       "version_minor": 0
      },
      "text/plain": [
       "  0%|          | 0/11 [00:00<?, ?it/s]"
      ]
     },
     "metadata": {},
     "output_type": "display_data"
    },
    {
     "data": {
      "application/vnd.jupyter.widget-view+json": {
       "model_id": "5e6b9520e771423382d98a5092f03d30",
       "version_major": 2,
       "version_minor": 0
      },
      "text/plain": [
       "Running Evaluation:   0%|          | 0/1 [00:00<?, ?it/s]"
      ]
     },
     "metadata": {},
     "output_type": "display_data"
    },
    {
     "name": "stderr",
     "output_type": "stream",
     "text": [
      "C:\\Users\\Ela\\anaconda3\\lib\\site-packages\\seqeval\\metrics\\sequence_labeling.py:171: UserWarning: , seems not to be NE tag.\n",
      "  warnings.warn('{} seems not to be NE tag.'.format(chunk))\n",
      "C:\\Users\\Ela\\anaconda3\\lib\\site-packages\\seqeval\\metrics\\sequence_labeling.py:171: UserWarning: . seems not to be NE tag.\n",
      "  warnings.warn('{} seems not to be NE tag.'.format(chunk))\n",
      "C:\\Users\\Ela\\anaconda3\\lib\\site-packages\\seqeval\\metrics\\sequence_labeling.py:171: UserWarning: - seems not to be NE tag.\n",
      "  warnings.warn('{} seems not to be NE tag.'.format(chunk))\n",
      "C:\\Users\\Ela\\anaconda3\\lib\\site-packages\\seqeval\\metrics\\sequence_labeling.py:171: UserWarning: : seems not to be NE tag.\n",
      "  warnings.warn('{} seems not to be NE tag.'.format(chunk))\n",
      "C:\\Users\\Ela\\anaconda3\\lib\\site-packages\\seqeval\\metrics\\sequence_labeling.py:171: UserWarning: ? seems not to be NE tag.\n",
      "  warnings.warn('{} seems not to be NE tag.'.format(chunk))\n"
     ]
    },
    {
     "name": "stdout",
     "output_type": "stream",
     "text": [
      "Learning process succeeded!\n"
     ]
    }
   ],
   "source": [
    "# step 6.\n",
    "best_model_dir = train_model(\n",
    "    train_data_dir=step5_rest_save_path,\n",
    "    test_data_dir=step5_test_save_path,\n",
    "    eval_data_dir=step5_train_save_path,\n",
    "    save_dirpath=step6_out_dirpath,\n",
    "    model_name=\"allegro/herbert-large-cased\",\n",
    "    learning_rate=2e-5,\n",
    "    batch_size=12,\n",
    "    grad_acc_steps=1,\n",
    "    warmup_steps=0,\n",
    "    eval_steps=200,\n",
    "    eval_during_training=True,\n",
    "    max_seq_len=256,\n",
    "    seed=2\n",
    ")\n",
    "\n",
    "print(\"Learning process succeeded!\")"
   ]
  },
  {
   "cell_type": "code",
   "execution_count": 23,
   "id": "3a9ea434",
   "metadata": {},
   "outputs": [],
   "source": [
    "# step 7.\n",
    "test_model(path_to_model=best_model_dir, path_to_test=test_in_path, path_to_out=step7_pred_save_path)"
   ]
  }
 ],
 "metadata": {
  "kernelspec": {
   "display_name": "Python 3 (ipykernel)",
   "language": "python",
   "name": "python3"
  },
  "language_info": {
   "codemirror_mode": {
    "name": "ipython",
    "version": 3
   },
   "file_extension": ".py",
   "mimetype": "text/x-python",
   "name": "python",
   "nbconvert_exporter": "python",
   "pygments_lexer": "ipython3",
   "version": "3.9.7"
  }
 },
 "nbformat": 4,
 "nbformat_minor": 5
}
